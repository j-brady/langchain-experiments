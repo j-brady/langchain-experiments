{
 "cells": [
  {
   "cell_type": "markdown",
   "id": "c2e0db58",
   "metadata": {},
   "source": [
    "## Setup"
   ]
  },
  {
   "cell_type": "code",
   "execution_count": 1,
   "id": "77da09c0",
   "metadata": {},
   "outputs": [],
   "source": [
    "from pathlib import Path\n",
    "\n",
    "from app import main, Chat, MemoryTypeEnum, ChainTypeEnum"
   ]
  },
  {
   "cell_type": "code",
   "execution_count": 2,
   "id": "bf162155",
   "metadata": {},
   "outputs": [],
   "source": [
    "pdfs = Path(\"pdfs/\")\n",
    "previous_messages = pdfs / \"history.txt\"\n",
    "qa, memory = main(\n",
    "    pdfs,\n",
    "    memory_type=MemoryTypeEnum.token,\n",
    "    max_token_limit=4097,\n",
    "    chain_type=ChainTypeEnum.refine\n",
    ")"
   ]
  },
  {
   "cell_type": "markdown",
   "id": "a83ba60f",
   "metadata": {},
   "source": [
    "## Your chat starts here!\n",
    "To end the session type `bye`."
   ]
  },
  {
   "cell_type": "code",
   "execution_count": null,
   "id": "28633ebc",
   "metadata": {},
   "outputs": [
    {
     "data": {
      "text/markdown": [
       "**Question:** Summarize the findings"
      ],
      "text/plain": [
       "<IPython.core.display.Markdown object>"
      ]
     },
     "metadata": {},
     "output_type": "display_data"
    },
    {
     "data": {
      "text/markdown": [
       "**Answer:** The study investigated the role of ERK3 in cell migration and actin cytoskeleton organization. The results showed that ERK3 depletion reduced cell motility and actin-rich protrusions in human mammary primary epithelial cells. ERK3 was found to co-localize with F-actin at the edge of the cell and at protruding filopodial spikes. The study also found that ERK3 could function as a nucleation promoting factor that stimulates ARP2/3-dependent actin polymerization. These findings suggest that ERK3 plays an important role in cell migration and actin cytoskeleton organization.\n",
       "\n",
       "<hr style=\"height:2px;border-width:0;color:black;background-color:black\">\n",
       "\n"
      ],
      "text/plain": [
       "<IPython.core.display.Markdown object>"
      ]
     },
     "metadata": {},
     "output_type": "display_data"
    },
    {
     "data": {
      "text/markdown": [
       "**Question:** Which cancers are potentially vulnerable to ERK3 inhibition?"
      ],
      "text/plain": [
       "<IPython.core.display.Markdown object>"
      ]
     },
     "metadata": {},
     "output_type": "display_data"
    },
    {
     "data": {
      "text/markdown": [
       "**Answer:** The article mentions that ERK3 functions in a context- and tissue- specific manner in controlling tumorigenesis and metastasis. It also states that ER\n",
       "\n",
       "<hr style=\"height:2px;border-width:0;color:black;background-color:black\">\n",
       "\n"
      ],
      "text/plain": [
       "<IPython.core.display.Markdown object>"
      ]
     },
     "metadata": {},
     "output_type": "display_data"
    },
    {
     "data": {
      "text/markdown": [
       "**Question:**  Which cancers are potentially vulnerable to ERK3 inhibition?"
      ],
      "text/plain": [
       "<IPython.core.display.Markdown object>"
      ]
     },
     "metadata": {},
     "output_type": "display_data"
    },
    {
     "data": {
      "text/markdown": [
       "**Answer:** The article mentions that ERK3 has been shown to regulate mammary epithelial cancer cell migration and metastasis, and that ERK3 participates in EGF-mediated\n",
       "\n",
       "<hr style=\"height:2px;border-width:0;color:black;background-color:black\">\n",
       "\n"
      ],
      "text/plain": [
       "<IPython.core.display.Markdown object>"
      ]
     },
     "metadata": {},
     "output_type": "display_data"
    },
    {
     "data": {
      "text/markdown": [
       "**Question:**  Which cancers are potentially vulnerable to ERK3 inhibition?"
      ],
      "text/plain": [
       "<IPython.core.display.Markdown object>"
      ]
     },
     "metadata": {},
     "output_type": "display_data"
    },
    {
     "data": {
      "text/markdown": [
       "**Answer:** The given portion of the document does not provide information about which types of cancer are susceptible to inhibition of ERK3. The article does not provide information on which types of cancer are susceptible to inhibition of ERK3.\n",
       "\n",
       "<hr style=\"height:2px;border-width:0;color:black;background-color:black\">\n",
       "\n"
      ],
      "text/plain": [
       "<IPython.core.display.Markdown object>"
      ]
     },
     "metadata": {},
     "output_type": "display_data"
    },
    {
     "name": "stdout",
     "output_type": "stream",
     "text": [
      "You:  Which cancers are potentially vulnerable to ERK3 inhibition?\n"
     ]
    },
    {
     "data": {
      "text/markdown": [
       "\n",
       "**Question:**  Which cancers are potentially vulnerable to ERK3 inhibition?\n",
       "\n",
       "**Answer:** Based on the new context provided, ERK3 has been shown to play a role in the regulation of the actin cytoskeleton and cell migration in mammary epithelial cells. ERK3 controls F-actin levels by regulating new filament assembly via ARP3-binding and its branching and bundling into actin-rich protrusions by binding to CDC42/RAC1. Knockdown of ERK3 led to a decrease in actin-rich protrusions and overall F-actin staining, indicating that ERK3 is necessary for the formation of actin-rich protrusions. However, the kinase activity of ERK3 was not required for the polymerization of actin but rather for the bundling and/or branching of the rapidly polymerizing actin filaments. ERK3 has also been shown to function in a context- and tissue-specific manner in controlling tumorigenesis and metastasis, suggesting that inhibition of ERK3 may be a potential therapeutic strategy for certain types of cancer. While it is not explicitly stated which types of cancer are susceptible to inhibition of ERK3, ERK3 has been shown to regulate mammary epithelial cancer cell migration and metastasis, suggesting that breast cancer may be one potential target.\n",
       "\n",
       "<hr style=\"height:2px;border-width:0;color:black;background-color:black\">\n",
       "\n"
      ],
      "text/plain": [
       "<IPython.core.display.Markdown object>"
      ]
     },
     "metadata": {},
     "output_type": "display_data"
    }
   ],
   "source": [
    "chat = Chat(qa=qa,previous_messages=previous_messages,memory=memory)\n",
    "chat.start()"
   ]
  },
  {
   "cell_type": "code",
   "execution_count": null,
   "id": "e2643b2b",
   "metadata": {},
   "outputs": [],
   "source": []
  }
 ],
 "metadata": {
  "kernelspec": {
   "display_name": "Python 3 (ipykernel)",
   "language": "python",
   "name": "python3"
  },
  "language_info": {
   "codemirror_mode": {
    "name": "ipython",
    "version": 3
   },
   "file_extension": ".py",
   "mimetype": "text/x-python",
   "name": "python",
   "nbconvert_exporter": "python",
   "pygments_lexer": "ipython3",
   "version": "3.10.6"
  }
 },
 "nbformat": 4,
 "nbformat_minor": 5
}
