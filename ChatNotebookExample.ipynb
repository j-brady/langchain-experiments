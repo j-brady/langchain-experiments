{
 "cells": [
  {
   "cell_type": "markdown",
   "id": "c2e0db58",
   "metadata": {},
   "source": [
    "## Setup"
   ]
  },
  {
   "cell_type": "code",
   "execution_count": null,
   "id": "77da09c0",
   "metadata": {},
   "outputs": [],
   "source": [
    "from pathlib import Path\n",
    "\n",
    "from IPython.display import display, Markdown\n",
    "from langchain.schema import messages_from_dict\n",
    "\n",
    "from app import main, save_messages, load_previous_messages"
   ]
  },
  {
   "cell_type": "code",
   "execution_count": null,
   "id": "bf162155",
   "metadata": {},
   "outputs": [],
   "source": [
    "pdfs = Path(\"pdfs/\")\n",
    "previous_messages = pdfs / \"history.txt\"\n",
    "qa, memory = main(pdfs)"
   ]
  },
  {
   "cell_type": "markdown",
   "id": "d97787c4",
   "metadata": {},
   "source": [
    "Load previous chat so you can continue where you left off"
   ]
  },
  {
   "cell_type": "code",
   "execution_count": null,
   "id": "28633ebc",
   "metadata": {},
   "outputs": [],
   "source": [
    "memory.chat_memory.messages = messages_from_dict(load_previous_messages(previous_messages))"
   ]
  },
  {
   "cell_type": "code",
   "execution_count": null,
   "id": "07972fc8",
   "metadata": {},
   "outputs": [],
   "source": [
    "template = \"\"\"\n",
    "**Question:** %s\n",
    "\n",
    "**Answer:** %s\n",
    "\"\"\"\n",
    "def respond(query,qa=qa):\n",
    "    result = qa({\"question\": query})\n",
    "    answer = template % (query, result[\"answer\"])\n",
    "    return display(Markdown(answer))"
   ]
  },
  {
   "cell_type": "markdown",
   "id": "a83ba60f",
   "metadata": {},
   "source": [
    "## Your chat starts here!"
   ]
  },
  {
   "cell_type": "code",
   "execution_count": null,
   "id": "ebcd285f",
   "metadata": {},
   "outputs": [],
   "source": [
    "query = \"Ask your question here\"\n",
    "respond(query)"
   ]
  },
  {
   "cell_type": "markdown",
   "id": "b403faf0",
   "metadata": {},
   "source": [
    "You can save your chat messages once your are done"
   ]
  },
  {
   "cell_type": "code",
   "execution_count": null,
   "id": "1acf0043",
   "metadata": {},
   "outputs": [],
   "source": [
    "save_messages(memory,path=pdfs / \"history.txt\")"
   ]
  }
 ],
 "metadata": {
  "kernelspec": {
   "display_name": "Python 3 (ipykernel)",
   "language": "python",
   "name": "python3"
  },
  "language_info": {
   "codemirror_mode": {
    "name": "ipython",
    "version": 3
   },
   "file_extension": ".py",
   "mimetype": "text/x-python",
   "name": "python",
   "nbconvert_exporter": "python",
   "pygments_lexer": "ipython3",
   "version": "3.10.6"
  }
 },
 "nbformat": 4,
 "nbformat_minor": 5
}
