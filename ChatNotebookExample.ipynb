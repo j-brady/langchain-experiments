{
 "cells": [
  {
   "cell_type": "markdown",
   "id": "c2e0db58",
   "metadata": {},
   "source": [
    "## Setup"
   ]
  },
  {
   "cell_type": "code",
   "execution_count": 1,
   "id": "77da09c0",
   "metadata": {},
   "outputs": [],
   "source": [
    "from pathlib import Path\n",
    "\n",
    "from IPython.display import display, Markdown\n",
    "from langchain.schema import messages_from_dict\n",
    "\n",
    "from app import main, save_messages, load_previous_messages, Chat, MemoryTypeEnum"
   ]
  },
  {
   "cell_type": "code",
   "execution_count": 2,
   "id": "bf162155",
   "metadata": {},
   "outputs": [],
   "source": [
    "pdfs = Path(\"pdfs/\")\n",
    "previous_messages = pdfs / \"history.txt\"\n",
    "qa, memory = main(pdfs, memory_type=MemoryTypeEnum.token)"
   ]
  },
  {
   "cell_type": "markdown",
   "id": "a83ba60f",
   "metadata": {},
   "source": [
    "## Your chat starts here!\n",
    "To end the session type `bye`."
   ]
  },
  {
   "cell_type": "code",
   "execution_count": null,
   "id": "28633ebc",
   "metadata": {},
   "outputs": [],
   "source": [
    "chat = Chat(qa=qa,previous_messages=previous_messages,memory=memory)\n",
    "chat.start()"
   ]
  }
 ],
 "metadata": {
  "kernelspec": {
   "display_name": "Python 3 (ipykernel)",
   "language": "python",
   "name": "python3"
  },
  "language_info": {
   "codemirror_mode": {
    "name": "ipython",
    "version": 3
   },
   "file_extension": ".py",
   "mimetype": "text/x-python",
   "name": "python",
   "nbconvert_exporter": "python",
   "pygments_lexer": "ipython3",
   "version": "3.10.6"
  }
 },
 "nbformat": 4,
 "nbformat_minor": 5
}
